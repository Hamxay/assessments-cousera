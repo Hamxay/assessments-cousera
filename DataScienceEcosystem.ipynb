{
  "nbformat": 4,
  "nbformat_minor": 0,
  "metadata": {
    "colab": {
      "provenance": []
    },
    "kernelspec": {
      "name": "python3",
      "display_name": "Python 3"
    },
    "language_info": {
      "name": "python"
    }
  },
  "cells": [
    {
      "cell_type": "code",
      "execution_count": null,
      "metadata": {
        "id": "-0nijpUPqxtU"
      },
      "outputs": [],
      "source": []
    },
    {
      "cell_type": "markdown",
      "source": [
        "# Data Science Tools and Ecosystem\n"
      ],
      "metadata": {
        "id": "QoJi6SFlrIc5"
      }
    },
    {
      "cell_type": "code",
      "source": [],
      "metadata": {
        "id": "Ffn_a7CfrZc5"
      },
      "execution_count": null,
      "outputs": []
    },
    {
      "cell_type": "markdown",
      "source": [
        "\"In this notebook, Data Science Tools and Ecosystem are summarized.\""
      ],
      "metadata": {
        "id": "fDpNzig1rbZc"
      }
    },
    {
      "cell_type": "code",
      "source": [],
      "metadata": {
        "id": "PhkE9FwQrb4Z"
      },
      "execution_count": null,
      "outputs": []
    },
    {
      "cell_type": "markdown",
      "source": [
        "Some of the popular languages that Data Scientists use are:\n",
        "\n",
        "1. Python\n",
        "2. R\n",
        "3. SQL\n"
      ],
      "metadata": {
        "id": "P81zqbeIrvgB"
      }
    },
    {
      "cell_type": "code",
      "source": [],
      "metadata": {
        "id": "ItlZcceIrvyY"
      },
      "execution_count": null,
      "outputs": []
    },
    {
      "cell_type": "markdown",
      "source": [
        "Some of the commonly used libraries used by Data Scientists include:\n",
        "1. Pandas\n",
        "2. NumPy\n",
        "3. SciPy\n"
      ],
      "metadata": {
        "id": "sbVfFOdouAdB"
      }
    },
    {
      "cell_type": "code",
      "source": [],
      "metadata": {
        "id": "6ds-JMvauMfc"
      },
      "execution_count": null,
      "outputs": []
    },
    {
      "cell_type": "markdown",
      "source": [
        "| Data Science Tools |\n",
        "|--------------------|\n",
        "| Jupyter Notebook   |\n",
        "| RStudio            |\n",
        "| Apache Zeppelin    |\n"
      ],
      "metadata": {
        "id": "xWz1sq73uNJy"
      }
    },
    {
      "cell_type": "code",
      "source": [],
      "metadata": {
        "id": "uTfEQQJUuNiY"
      },
      "execution_count": null,
      "outputs": []
    },
    {
      "cell_type": "markdown",
      "source": [
        "### Below are a few examples of evaluating arithmetic expressions in Python\n"
      ],
      "metadata": {
        "id": "hBDaNmzMuWvT"
      }
    },
    {
      "cell_type": "code",
      "source": [
        "# This is a simple arithmetic expression to multiply then add integers\n",
        "(3*4) + 5\n"
      ],
      "metadata": {
        "colab": {
          "base_uri": "https://localhost:8080/"
        },
        "id": "qdZQlNKTuXJ4",
        "outputId": "c5fbff8d-b723-4970-ed3c-0432cc1f5193"
      },
      "execution_count": 3,
      "outputs": [
        {
          "output_type": "execute_result",
          "data": {
            "text/plain": [
              "17"
            ]
          },
          "metadata": {},
          "execution_count": 3
        }
      ]
    },
    {
      "cell_type": "code",
      "source": [
        "# This will convert 200 minutes to hours by dividing by 60\n",
        "200 / 60\n"
      ],
      "metadata": {
        "colab": {
          "base_uri": "https://localhost:8080/"
        },
        "id": "fe6i4YT-uulY",
        "outputId": "ac4e97cc-87b0-4bd6-cafe-fd42c10f1b4b"
      },
      "execution_count": 4,
      "outputs": [
        {
          "output_type": "execute_result",
          "data": {
            "text/plain": [
              "3.3333333333333335"
            ]
          },
          "metadata": {},
          "execution_count": 4
        }
      ]
    },
    {
      "cell_type": "code",
      "source": [],
      "metadata": {
        "id": "Ci4rot6FxvQK"
      },
      "execution_count": null,
      "outputs": []
    },
    {
      "cell_type": "markdown",
      "source": [
        "**Objectives:**\n",
        "- Understand the basic concepts of data science and machine learning.\n",
        "- Learn to work with popular data science libraries such as Pandas and NumPy.\n",
        "- Practice basic data manipulation and analysis techniques.\n"
      ],
      "metadata": {
        "id": "1TnHEqygyhux"
      }
    },
    {
      "cell_type": "code",
      "source": [],
      "metadata": {
        "id": "ejRY5EfXyiKY"
      },
      "execution_count": null,
      "outputs": []
    },
    {
      "cell_type": "markdown",
      "source": [
        "## Author\n",
        "Muhammad Hamza\n"
      ],
      "metadata": {
        "id": "-66d-i_5ze2C"
      }
    },
    {
      "cell_type": "code",
      "source": [],
      "metadata": {
        "id": "dGKO1TZVzheZ"
      },
      "execution_count": null,
      "outputs": []
    }
  ]
}